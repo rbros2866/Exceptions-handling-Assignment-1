{
 "cells": [
  {
   "cell_type": "markdown",
   "id": "e09dd279",
   "metadata": {},
   "source": [
    "Q1. What is an Exception in python? Write the difference between Exceptions and syntax errors"
   ]
  },
  {
   "cell_type": "markdown",
   "id": "c4f2e9ce",
   "metadata": {},
   "source": [
    "An exception in Python is an event that occurs during the execution of a program, disrupting the normal flow and potentially leading to program termination. It is a way of handling errors and exceptional situations gracefully.\n",
    "\n",
    "Exception: An exception occurs during the runtime of a program when a specific condition or error is encountered. These conditions can be related to file handling, network connections, mathematical calculations, or any other unforeseen circumstance that causes the program to malfunction. Exceptions are raised explicitly using the raise statement or implicitly when an error occurs.\n",
    "\n",
    "Syntax Error: A syntax error, on the other hand, is a type of error that occurs during the parsing of the program code. It happens when the syntax rules of the programming language are violated. Syntax errors are typically caused by typos, missing or misplaced punctuation, incorrect indentation, or using incorrect keywords or operators. These errors prevent the program from being compiled or interpreted correctly, and the program cannot run until the syntax errors are fixed."
   ]
  },
  {
   "cell_type": "markdown",
   "id": "3a64dabd",
   "metadata": {},
   "source": [
    "Q2.What happens when exceptions is not handled? explain with an example"
   ]
  },
  {
   "cell_type": "markdown",
   "id": "c7e050cd",
   "metadata": {},
   "source": [
    "When an exception is not handled in Python, it results in the termination of the program and an error message being displayed. This is because the unhandled exception propagates up the call stack until it reaches the top-level of the program, where it causes the program to halt."
   ]
  },
  {
   "cell_type": "code",
   "execution_count": 6,
   "id": "42d1f4d6",
   "metadata": {},
   "outputs": [
    {
     "ename": "ZeroDivisionError",
     "evalue": "division by zero",
     "output_type": "error",
     "traceback": [
      "\u001b[1;31m---------------------------------------------------------------------------\u001b[0m",
      "\u001b[1;31mZeroDivisionError\u001b[0m                         Traceback (most recent call last)",
      "Cell \u001b[1;32mIn[6], line 9\u001b[0m\n\u001b[0;32m      7\u001b[0m num1 \u001b[38;5;241m=\u001b[39m \u001b[38;5;241m10\u001b[39m\n\u001b[0;32m      8\u001b[0m num2 \u001b[38;5;241m=\u001b[39m \u001b[38;5;241m0\u001b[39m\n\u001b[1;32m----> 9\u001b[0m result \u001b[38;5;241m=\u001b[39m \u001b[43mdivide_numbers\u001b[49m\u001b[43m(\u001b[49m\u001b[43mnum1\u001b[49m\u001b[43m,\u001b[49m\u001b[43m \u001b[49m\u001b[43mnum2\u001b[49m\u001b[43m)\u001b[49m\n\u001b[0;32m     10\u001b[0m \u001b[38;5;28mprint\u001b[39m(\u001b[38;5;124m\"\u001b[39m\u001b[38;5;124mThe result is:\u001b[39m\u001b[38;5;124m\"\u001b[39m, result)\n",
      "Cell \u001b[1;32mIn[6], line 4\u001b[0m, in \u001b[0;36mdivide_numbers\u001b[1;34m(a, b)\u001b[0m\n\u001b[0;32m      3\u001b[0m \u001b[38;5;28;01mdef\u001b[39;00m \u001b[38;5;21mdivide_numbers\u001b[39m(a, b):\n\u001b[1;32m----> 4\u001b[0m     result \u001b[38;5;241m=\u001b[39m \u001b[43ma\u001b[49m\u001b[43m \u001b[49m\u001b[38;5;241;43m/\u001b[39;49m\u001b[43m \u001b[49m\u001b[43mb\u001b[49m\n\u001b[0;32m      5\u001b[0m     \u001b[38;5;28;01mreturn\u001b[39;00m result\n",
      "\u001b[1;31mZeroDivisionError\u001b[0m: division by zero"
     ]
    }
   ],
   "source": [
    "# Example 1: Unhandled Exception\n",
    "\n",
    "def divide_numbers(a, b):\n",
    "    result = a / b\n",
    "    return result\n",
    "\n",
    "num1 = 10\n",
    "num2 = 0\n",
    "result = divide_numbers(num1, num2)\n",
    "print(\"The result is:\", result)\n"
   ]
  },
  {
   "cell_type": "markdown",
   "id": "c12fa638",
   "metadata": {},
   "source": [
    "Q4. Explain with an example how to use the try and else,finally and raise"
   ]
  },
  {
   "cell_type": "code",
   "execution_count": 8,
   "id": "4982d21a",
   "metadata": {},
   "outputs": [
    {
     "name": "stdout",
     "output_type": "stream",
     "text": [
      "Error: Age cannot be negative.\n",
      "Finally block executed.\n"
     ]
    }
   ],
   "source": [
    "def validate_age(age):\n",
    "    try:\n",
    "        if age < 0:\n",
    "            raise ValueError(\"Age cannot be negative.\")\n",
    "        elif age < 18:\n",
    "            raise ValueError(\"You must be at least 18 years old.\")\n",
    "        else:\n",
    "            print(\"Age is valid.\")\n",
    "    except ValueError as e:\n",
    "        print(\"Error:\", str(e))\n",
    "    else:\n",
    "        print(\"No exceptions occurred.\")\n",
    "    finally:\n",
    "        print(\"Finally block executed.\")\n",
    "\n",
    "validate_age(-5)\n"
   ]
  },
  {
   "cell_type": "markdown",
   "id": "01b45618",
   "metadata": {},
   "source": [
    "Q5. What are Custom Exceptions in Python? Why do we need Custom Exceptions? Explain with an example."
   ]
  },
  {
   "cell_type": "markdown",
   "id": "52a0d2a3",
   "metadata": {},
   "source": [
    "Custom exceptions in Python are user-defined exception classes that inherit from the base Exception class.\n",
    "\n",
    "They provide a way to handle specific types of errors or exceptional situations not covered by built-in exceptions.\n",
    "\n",
    "Custom exceptions enhance code readability, modularity, and reusability.\n",
    "\n",
    "They encapsulate unique error conditions and enable tailored error handling. By raising and catching custom exceptions, developers can implement specialized logic to handle these scenarios, improving code organization and maintainability."
   ]
  },
  {
   "cell_type": "code",
   "execution_count": 12,
   "id": "99a92374",
   "metadata": {},
   "outputs": [
    {
     "name": "stdout",
     "output_type": "stream",
     "text": [
      "\n",
      "Custom Exception: Empty data is not allowed.\n"
     ]
    }
   ],
   "source": [
    "class CustomException(Exception):\n",
    "    pass\n",
    "\n",
    "class SpecificError(CustomException):\n",
    "    pass\n",
    "\n",
    "def process_data(data):\n",
    "    try:\n",
    "        if data == '':\n",
    "            raise SpecificError(\"Empty data is not allowed.\")\n",
    "        elif len(data) < 5:\n",
    "            raise SpecificError(\"Data length should be at least 5.\")\n",
    "        else:\n",
    "            print(\"Data processing successful.\")\n",
    "    except CustomException as e:\n",
    "        print(\"Custom Exception:\", str(e))\n",
    "\n",
    "# Example usage\n",
    "data = input()\n",
    "process_data(data)\n"
   ]
  },
  {
   "cell_type": "markdown",
   "id": "a3a4adab",
   "metadata": {},
   "source": [
    "Q6. Create a custom exception class, use this class in handling an exception."
   ]
  },
  {
   "cell_type": "code",
   "execution_count": 26,
   "id": "00499001",
   "metadata": {},
   "outputs": [
    {
     "name": "stdout",
     "output_type": "stream",
     "text": [
      "Custom Exception: Cannot divide by zero.\n",
      "Result: 5.0\n",
      "Result: 0.0\n"
     ]
    }
   ],
   "source": [
    "class CustomException(Exception):\n",
    "    def __init__(self, message):\n",
    "        self.message = message\n",
    "\n",
    "def divide_numbers(a, b):\n",
    "    try:\n",
    "        if b == 0:\n",
    "            raise CustomException(\"Cannot divide by zero.\")\n",
    "        else:\n",
    "            result = a / b\n",
    "            print(\"Result:\", result)\n",
    "    except CustomException as e:\n",
    "        print(\"Custom Exception:\", e.message)\n",
    "\n",
    "divide_numbers(10, 0)\n",
    "divide_numbers(10, 2)\n",
    "divide_numbers(0, 2)"
   ]
  },
  {
   "cell_type": "code",
   "execution_count": null,
   "id": "06cd8dbd",
   "metadata": {},
   "outputs": [],
   "source": []
  }
 ],
 "metadata": {
  "kernelspec": {
   "display_name": "Python 3 (ipykernel)",
   "language": "python",
   "name": "python3"
  },
  "language_info": {
   "codemirror_mode": {
    "name": "ipython",
    "version": 3
   },
   "file_extension": ".py",
   "mimetype": "text/x-python",
   "name": "python",
   "nbconvert_exporter": "python",
   "pygments_lexer": "ipython3",
   "version": "3.11.1"
  }
 },
 "nbformat": 4,
 "nbformat_minor": 5
}
